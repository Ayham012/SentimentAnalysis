{
 "cells": [
  {
   "cell_type": "code",
   "execution_count": null,
   "metadata": {
    "_cell_guid": "b1076dfc-b9ad-4769-8c92-a6c4dae69d19",
    "_uuid": "8f2839f25d086af736a60e9eeb907d3b93b6e0e5",
    "execution": {
     "iopub.execute_input": "2025-03-18T22:05:31.556882Z",
     "iopub.status.busy": "2025-03-18T22:05:31.556519Z",
     "iopub.status.idle": "2025-03-18T22:05:31.962248Z",
     "shell.execute_reply": "2025-03-18T22:05:31.961197Z",
     "shell.execute_reply.started": "2025-03-18T22:05:31.556852Z"
    },
    "trusted": true
   },
   "outputs": [],
   "source": [
    "from tensorflow.keras.models import load_model\n",
    "from tensorflow.keras.preprocessing.text import Tokenizer\n",
    "from tensorflow.keras.preprocessing.sequence import pad_sequences\n",
    "\n",
    "model = load_model(\"/kaggle/input/sentiment/tensorflow2/default/1/trained_model.h5\")\n"
   ]
  },
  {
   "cell_type": "code",
   "execution_count": 7,
   "metadata": {
    "execution": {
     "iopub.execute_input": "2025-03-18T22:05:34.150436Z",
     "iopub.status.busy": "2025-03-18T22:05:34.150013Z",
     "iopub.status.idle": "2025-03-18T22:05:34.155090Z",
     "shell.execute_reply": "2025-03-18T22:05:34.153944Z",
     "shell.execute_reply.started": "2025-03-18T22:05:34.150404Z"
    },
    "trusted": true
   },
   "outputs": [],
   "source": [
    "num_words = 10000  \n",
    "oov_token = \"<OOV>\"\n",
    "tokenizer = Tokenizer(num_words=num_words, oov_token=oov_token)\n"
   ]
  },
  {
   "cell_type": "code",
   "execution_count": 8,
   "metadata": {
    "execution": {
     "iopub.execute_input": "2025-03-18T22:05:35.651189Z",
     "iopub.status.busy": "2025-03-18T22:05:35.650798Z",
     "iopub.status.idle": "2025-03-18T22:05:50.868296Z",
     "shell.execute_reply": "2025-03-18T22:05:50.867357Z",
     "shell.execute_reply.started": "2025-03-18T22:05:35.651157Z"
    },
    "trusted": true
   },
   "outputs": [
    {
     "name": "stdout",
     "output_type": "stream",
     "text": [
      "Enter review:  Worst movie ever\n"
     ]
    }
   ],
   "source": [
    "test_text = input(\"Enter review: \")\n",
    "tokenizer.fit_on_texts(test_text)\n",
    "sequences = tokenizer.texts_to_sequences(test_text)"
   ]
  },
  {
   "cell_type": "code",
   "execution_count": 9,
   "metadata": {
    "execution": {
     "iopub.execute_input": "2025-03-18T22:05:52.401150Z",
     "iopub.status.busy": "2025-03-18T22:05:52.400754Z",
     "iopub.status.idle": "2025-03-18T22:05:52.406196Z",
     "shell.execute_reply": "2025-03-18T22:05:52.404878Z",
     "shell.execute_reply.started": "2025-03-18T22:05:52.401120Z"
    },
    "trusted": true
   },
   "outputs": [],
   "source": [
    "max_length = 300\n",
    "padded_sequences = pad_sequences(sequences, maxlen=max_length, padding='post')"
   ]
  },
  {
   "cell_type": "code",
   "execution_count": 10,
   "metadata": {
    "execution": {
     "iopub.execute_input": "2025-03-18T22:07:22.703067Z",
     "iopub.status.busy": "2025-03-18T22:07:22.702664Z",
     "iopub.status.idle": "2025-03-18T22:07:23.510023Z",
     "shell.execute_reply": "2025-03-18T22:07:23.509052Z",
     "shell.execute_reply.started": "2025-03-18T22:07:22.703033Z"
    },
    "trusted": true
   },
   "outputs": [
    {
     "name": "stdout",
     "output_type": "stream",
     "text": [
      "\u001b[1m1/1\u001b[0m \u001b[32m━━━━━━━━━━━━━━━━━━━━\u001b[0m\u001b[37m\u001b[0m \u001b[1m1s\u001b[0m 718ms/step\n"
     ]
    }
   ],
   "source": [
    "predictions = model.predict(padded_sequences)\n",
    "y_pred = (predictions > 0.5).astype(int)  "
   ]
  },
  {
   "cell_type": "code",
   "execution_count": 11,
   "metadata": {
    "execution": {
     "iopub.execute_input": "2025-03-18T22:07:24.843652Z",
     "iopub.status.busy": "2025-03-18T22:07:24.843308Z",
     "iopub.status.idle": "2025-03-18T22:07:24.849102Z",
     "shell.execute_reply": "2025-03-18T22:07:24.847991Z",
     "shell.execute_reply.started": "2025-03-18T22:07:24.843626Z"
    },
    "trusted": true
   },
   "outputs": [
    {
     "name": "stdout",
     "output_type": "stream",
     "text": [
      "[[1]\n",
      " [0]\n",
      " [0]\n",
      " [0]\n",
      " [0]\n",
      " [0]\n",
      " [1]\n",
      " [0]\n",
      " [0]\n",
      " [0]\n",
      " [0]\n",
      " [0]\n",
      " [0]\n",
      " [0]\n",
      " [0]\n",
      " [0]]\n"
     ]
    }
   ],
   "source": [
    "print(y_pred)"
   ]
  },
  {
   "cell_type": "code",
   "execution_count": null,
   "metadata": {
    "trusted": true
   },
   "outputs": [],
   "source": []
  }
 ],
 "metadata": {
  "kaggle": {
   "accelerator": "none",
   "dataSources": [
    {
     "isSourceIdPinned": true,
     "modelId": 271251,
     "modelInstanceId": 249736,
     "sourceId": 291499,
     "sourceType": "modelInstanceVersion"
    }
   ],
   "dockerImageVersionId": 30918,
   "isGpuEnabled": false,
   "isInternetEnabled": true,
   "language": "python",
   "sourceType": "notebook"
  },
  "kernelspec": {
   "display_name": "Python 3",
   "language": "python",
   "name": "python3"
  },
  "language_info": {
   "codemirror_mode": {
    "name": "ipython",
    "version": 3
   },
   "file_extension": ".py",
   "mimetype": "text/x-python",
   "name": "python",
   "nbconvert_exporter": "python",
   "pygments_lexer": "ipython3",
   "version": "3.10.12"
  }
 },
 "nbformat": 4,
 "nbformat_minor": 4
}
